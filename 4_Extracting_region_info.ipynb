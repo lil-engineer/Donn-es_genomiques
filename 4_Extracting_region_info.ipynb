{
 "cells": [
  {
   "cell_type": "code",
   "execution_count": 1,
   "metadata": {},
   "outputs": [],
   "source": [
    "import numpy as np\n",
    "import pandas as pd\n",
    "from genetics import loadRawGenoFile, unpackfullgenofile, unpackAndFilterSNPs\n",
    "def load_snp_table(snp_table_filename):\n",
    "    # Load the SNP table (assumed to be in CSV format for this example)\n",
    "    snp_table = pd.read_csv(snp_table_filename)\n",
    "    return snp_table\n",
    "\n",
    "def filter_y_chromosome_snps(geno_filename, snp_table_filename, chunk_size=10000):\n",
    "    # Load the SNP information table\n",
    "    snp_table = load_snp_table(snp_table_filename)\n",
    "    \n",
    "    # Filter for Y chromosome SNPs (assuming a column 'chromosome' and 'snp_id')\n",
    "    y_chromosome_snps = snp_table[snp_table['Chromosome'] == 24]['SNP']\n",
    "    \n",
    "    # Convert SNP IDs to indices (assuming you have a mapping function)\n",
    "    snp_id_to_index = {snp_id: idx for idx, snp_id in enumerate(snp_table['SNP'])}\n",
    "    y_snp_indices = [snp_id_to_index[snp_id] for snp_id in y_chromosome_snps if snp_id in snp_id_to_index]\n",
    "    \n",
    "    # Process the geno file in chunks and filter Y chromosome SNPs\n",
    "    geno_file, nind, nsnp, rlen = loadRawGenoFile(geno_filename)\n",
    "    geno = np.memmap(geno_filename, dtype='uint8', mode='r', shape=(nsnp, rlen))\n",
    "    \n",
    "    filtered_data = []\n",
    "    \n",
    "    for start in range(0, nsnp, chunk_size):\n",
    "        end = min(start + chunk_size, nsnp)\n",
    "        chunk = geno[start:end]\n",
    "        chunk_unpacked = np.unpackbits(chunk, axis=1)[:, :(2 * nind)]\n",
    "        \n",
    "        # Find indices of Y chromosome SNPs in the current chunk\n",
    "        chunk_indices = np.array([idx for idx in y_snp_indices if start <= idx < end])\n",
    "        if chunk_indices.size > 0:\n",
    "            chunk_filtered = chunk_unpacked[chunk_indices - start]\n",
    "            filtered_data.append(chunk_filtered)\n",
    "    \n",
    "    return np.vstack(filtered_data) if filtered_data else np.array([])\n",
    "\n",
    "# Example usage\n",
    "filtered_y_chromosome_data = filter_y_chromosome_snps(\n",
    "    r'v54.1.p1_HO_public.geno',\n",
    "    r'v54.1.p1_HO_public (2).csv'\n",
    ")\n"
   ]
  },
  {
   "cell_type": "code",
   "execution_count": 2,
   "metadata": {},
   "outputs": [],
   "source": [
    "import pandas as pd\n",
    "\n",
    "def load_ind_file(ind_filename):\n",
    "    ind_data = pd.read_csv(ind_filename,low_memory=False)  \n",
    "    return ind_data\n",
    "\n",
    "ind_file = r'v54.1.p1_HO_public.csv'\n",
    "ind_data = load_ind_file(ind_file)"
   ]
  },
  {
   "cell_type": "code",
   "execution_count": 3,
   "metadata": {},
   "outputs": [
    {
     "name": "stdout",
     "output_type": "stream",
     "text": [
      "     Genetic ID  \\\n",
      "0       I001.HO   \n",
      "1       I002.HO   \n",
      "2  IREJ-T006.HO   \n",
      "3  IREJ-T009.HO   \n",
      "4  IREJ-T022.HO   \n",
      "\n",
      "  SNPs hit on autosomal targets (Computed using easystats on 1240k snpset)  \n",
      "0                                                 ..                        \n",
      "1                                                 ..                        \n",
      "2                                                 ..                        \n",
      "3                                                 ..                        \n",
      "4                                                 ..                        \n"
     ]
    },
    {
     "name": "stderr",
     "output_type": "stream",
     "text": [
      "C:\\Users\\91735\\AppData\\Local\\Temp\\ipykernel_11336\\4113635757.py:8: SettingWithCopyWarning: \n",
      "A value is trying to be set on a copy of a slice from a DataFrame\n",
      "\n",
      "See the caveats in the documentation: https://pandas.pydata.org/pandas-docs/stable/user_guide/indexing.html#returning-a-view-versus-a-copy\n",
      "  filtered_ind_data.replace('..',np.nan,inplace=True)\n"
     ]
    }
   ],
   "source": [
    "def create_filtered_ind_df(ind_data):\n",
    "    relevant_columns = ['Genetic ID', 'SNPs hit on autosomal targets (Computed using easystats on 1240k snpset)']\n",
    "    filtered_ind_data = ind_data[relevant_columns]\n",
    "    return filtered_ind_data\n",
    "\n",
    "filtered_ind_data = create_filtered_ind_df(ind_data)\n",
    "print(filtered_ind_data.head())\n",
    "filtered_ind_data.replace('..',np.nan,inplace=True)"
   ]
  },
  {
   "cell_type": "code",
   "execution_count": 4,
   "metadata": {},
   "outputs": [
    {
     "name": "stdout",
     "output_type": "stream",
     "text": [
      "Filtered genotype data shape: (597, 16381)\n",
      "Filtered individual data shape: (16381, 2)\n"
     ]
    },
    {
     "name": "stderr",
     "output_type": "stream",
     "text": [
      "C:\\Users\\91735\\AppData\\Local\\Temp\\ipykernel_11336\\945753244.py:6: SettingWithCopyWarning: \n",
      "A value is trying to be set on a copy of a slice from a DataFrame.\n",
      "Try using .loc[row_indexer,col_indexer] = value instead\n",
      "\n",
      "See the caveats in the documentation: https://pandas.pydata.org/pandas-docs/stable/user_guide/indexing.html#returning-a-view-versus-a-copy\n",
      "  ind_data['SNPs hit on autosomal targets (Computed using easystats on 1240k snpset)'] = pd.to_numeric(\n"
     ]
    }
   ],
   "source": [
    "import numpy as np\n",
    "import pandas as pd\n",
    "\n",
    "def filter_individuals_based_on_missing_data(geno_data, ind_data, missing_threshold=0.4):\n",
    "    # Convert 'SNPs hit on autosomal targets' to numeric, setting errors='coerce' will replace invalid parsing with NaN\n",
    "    ind_data['SNPs hit on autosomal targets (Computed using easystats on 1240k snpset)'] = pd.to_numeric(\n",
    "        ind_data['SNPs hit on autosomal targets (Computed using easystats on 1240k snpset)'], errors='coerce')\n",
    "    \n",
    "    # Extract relevant columns\n",
    "    ind_ids = ind_data['Genetic ID'].values\n",
    "    snps_hit = ind_data['SNPs hit on autosomal targets (Computed using easystats on 1240k snpset)'].values\n",
    "    \n",
    "    # Count the total number of SNPs available\n",
    "    total_snps = geno_data.shape[0]\n",
    "    \n",
    "    # Calculate the proportion of missing SNPs for each individual\n",
    "    missing_data = 1 - (snps_hit / total_snps)\n",
    "    \n",
    "    # Filter out individuals with more than 40% missing data\n",
    "    valid_individuals_mask = missing_data <= missing_threshold\n",
    "    \n",
    "    # Filter ind_data based on valid individuals\n",
    "    filtered_ind_data = ind_data[valid_individuals_mask]\n",
    "    valid_individual_ids = filtered_ind_data['Genetic ID'].values\n",
    "    \n",
    "    # Create a dictionary for fast lookup\n",
    "    id_to_index = {id: idx for idx, id in enumerate(ind_ids)}\n",
    "    \n",
    "    # Create a boolean mask for geno_data columns\n",
    "    geno_indices = [id_to_index[id] for id in valid_individual_ids if id in id_to_index]\n",
    "    valid_individuals_mask = np.zeros(geno_data.shape[1], dtype=bool)\n",
    "    valid_individuals_mask[geno_indices] = True\n",
    "    \n",
    "    # Filter geno_data based on valid individuals\n",
    "    filtered_geno_data = geno_data[:, valid_individuals_mask]\n",
    "    \n",
    "    return filtered_geno_data, filtered_ind_data\n",
    "\n",
    "# Example usage\n",
    "filtered_geno_data, filtered_ind_data = filter_individuals_based_on_missing_data(filtered_y_chromosome_data, filtered_ind_data)\n",
    "print(f'Filtered genotype data shape: {filtered_geno_data.shape}')\n",
    "print(f'Filtered individual data shape: {filtered_ind_data.shape}')\n"
   ]
  },
  {
   "cell_type": "code",
   "execution_count": 5,
   "metadata": {},
   "outputs": [
    {
     "data": {
      "text/plain": [
       "Index(['Genetic ID', 'Master ID', 'Skeletal code', 'Skeletal element',\n",
       "       'Year data from this individual was first published [for a present-day individuals we give the data of the data reported here; missing GreenScience 2010 (Vi33.15, Vi33.26), Olalde2018 (I2657), RasmussenNature2010 (Australian)]',\n",
       "       'Publication',\n",
       "       'Method for Determining Date; unless otherwise specified, calibrations use 95.4% intervals from OxCal v4.4.2 Bronk Ramsey (2009); r5; Atmospheric data from Reimer et al (2020)',\n",
       "       'Date mean in BP in years before 1950 CE [OxCal mu for a direct radiocarbon date, and average of range for a contextual date]',\n",
       "       'Date standard deviation in BP [OxCal sigma for a direct radiocarbon date, and standard deviation of the uniform distribution between the two bounds for a contextual date]',\n",
       "       'Full Date One of two formats. (Format 1) 95.4% CI calibrated radiocarbon age (Conventional Radiocarbon Age BP, Lab number) e.g. 2624-2350 calBCE (3990±40 BP, Ua-35016). (Format 2) Archaeological context range, e.g. 2500-1700 BCE',\n",
       "       'Age at Death from physical anthropology', 'Group ID', 'Locality',\n",
       "       'Political Entity', 'Lat.', 'Long.', 'Pulldown Strategy', 'Data source',\n",
       "       'No. Libraries',\n",
       "       '1240k coverage (taken from original pulldown where possible)',\n",
       "       'SNPs hit on autosomal targets (Computed using easystats on 1240k snpset)',\n",
       "       'SNPs hit on autosomal targets (Computed using easystats on HO snpset)',\n",
       "       'Molecular Sex', 'Family ID and position within family',\n",
       "       'Y haplogroup (manual curation in terminal mutation format)',\n",
       "       'Y haplogroup (manual curation in ISOGG format)',\n",
       "       'mtDNA coverage (merged data)', 'mtDNA haplogroup if >2x or published',\n",
       "       'mtDNA match to consensus if >2x (merged data)',\n",
       "       'Damage rate in first nucleotide on sequences overlapping 1240k targets (merged data)',\n",
       "       'Sex ratio [Y/(Y+X) counts] (merged data)',\n",
       "       'Library type (minus=no.damage.correction, half=damage.retained.at.last.position, plus=damage.fully.corrected, ds=double.stranded.library.preparation, ss=single.stranded.library.preparation)',\n",
       "       'Libraries', 'ASSESSMENT',\n",
       "       'ASSESSMENT WARNINGS (Xcontam interval is listed if lower bound is >0.005, \"QUESTIONABLE\" if lower bound is 0.01-0.02, \"QUESTIONABLE_CRITICAL\" or \"FAIL\" if lower bound is >0.02) (mtcontam confidence interval is listed if coverage >2 and upper bound is <0.'],\n",
       "      dtype='object')"
      ]
     },
     "execution_count": 5,
     "metadata": {},
     "output_type": "execute_result"
    }
   ],
   "source": [
    "ind_data.columns"
   ]
  },
  {
   "cell_type": "code",
   "execution_count": 6,
   "metadata": {},
   "outputs": [],
   "source": [
    "ind_data_selected=ind_data[['Genetic ID','Master ID','Political Entity','Locality','Molecular Sex','Y haplogroup (manual curation in ISOGG format)','mtDNA haplogroup if >2x or published']].copy()\n",
    "filtered_ind_data_selected=filtered_ind_data['Genetic ID']\n"
   ]
  },
  {
   "cell_type": "code",
   "execution_count": 7,
   "metadata": {},
   "outputs": [],
   "source": [
    "df_chrY_info=pd.merge(filtered_ind_data_selected,ind_data_selected,on='Genetic ID',how='left')"
   ]
  },
  {
   "cell_type": "code",
   "execution_count": 8,
   "metadata": {},
   "outputs": [
    {
     "name": "stdout",
     "output_type": "stream",
     "text": [
      "<class 'pandas.core.frame.DataFrame'>\n",
      "RangeIndex: 16381 entries, 0 to 16380\n",
      "Data columns (total 7 columns):\n",
      " #   Column                                          Non-Null Count  Dtype \n",
      "---  ------                                          --------------  ----- \n",
      " 0   Genetic ID                                      16381 non-null  object\n",
      " 1   Master ID                                       16381 non-null  object\n",
      " 2   Political Entity                                16381 non-null  object\n",
      " 3   Locality                                        16381 non-null  object\n",
      " 4   Molecular Sex                                   16381 non-null  object\n",
      " 5   Y haplogroup (manual curation in ISOGG format)  16377 non-null  object\n",
      " 6   mtDNA haplogroup if >2x or published            16371 non-null  object\n",
      "dtypes: object(7)\n",
      "memory usage: 896.0+ KB\n"
     ]
    }
   ],
   "source": [
    "df_chrY_info.info()"
   ]
  },
  {
   "cell_type": "code",
   "execution_count": 9,
   "metadata": {},
   "outputs": [],
   "source": [
    "df_chrY_info=df_chrY_info.rename(columns={'Y haplogroup (manual curation in ISOGG format)':'Y Haplogroup','mtDNA haplogroup if >2x or published':'mtDNA Haplogroup'})"
   ]
  },
  {
   "cell_type": "code",
   "execution_count": 10,
   "metadata": {},
   "outputs": [],
   "source": [
    "df_chrY_info['Y Haplogroup']=df_chrY_info['Y Haplogroup'].replace('..',np.nan)\n",
    "df_chrY_info['mtDNA Haplogroup']=df_chrY_info['mtDNA Haplogroup'].replace('..',np.nan)"
   ]
  },
  {
   "cell_type": "code",
   "execution_count": 11,
   "metadata": {},
   "outputs": [
    {
     "name": "stdout",
     "output_type": "stream",
     "text": [
      "<class 'pandas.core.frame.DataFrame'>\n",
      "RangeIndex: 16381 entries, 0 to 16380\n",
      "Data columns (total 7 columns):\n",
      " #   Column            Non-Null Count  Dtype \n",
      "---  ------            --------------  ----- \n",
      " 0   Genetic ID        16381 non-null  object\n",
      " 1   Master ID         16381 non-null  object\n",
      " 2   Political Entity  16381 non-null  object\n",
      " 3   Locality          16381 non-null  object\n",
      " 4   Molecular Sex     16381 non-null  object\n",
      " 5   Y Haplogroup      8804 non-null   object\n",
      " 6   mtDNA Haplogroup  9426 non-null   object\n",
      "dtypes: object(7)\n",
      "memory usage: 896.0+ KB\n"
     ]
    }
   ],
   "source": [
    "df_chrY_info.info()"
   ]
  },
  {
   "cell_type": "code",
   "execution_count": 12,
   "metadata": {},
   "outputs": [],
   "source": [
    "df_chrY_info_cleaned=df_chrY_info.dropna(subset=['Y Haplogroup','mtDNA Haplogroup'])"
   ]
  },
  {
   "cell_type": "code",
   "execution_count": 31,
   "metadata": {},
   "outputs": [],
   "source": [
    "cols_to_check = ['Y Haplogroup', 'mtDNA Haplogroup']\n",
    "\n",
    "# Create a boolean mask for each column and combine them\n",
    "mask = ~df_chrY_info_cleaned[cols_to_check].apply(lambda col: col.str.contains('n/a', case=False, na=False)).any(axis=1)\n",
    "\n",
    "# Apply the mask to filter the DataFrame\n",
    "df_chrY_info_final = df_chrY_info_cleaned[mask]\n",
    "\n"
   ]
  },
  {
   "cell_type": "code",
   "execution_count": 38,
   "metadata": {},
   "outputs": [],
   "source": [
    "df_chrY_info_final=df_chrY_info_final.reset_index(drop=True)"
   ]
  },
  {
   "cell_type": "code",
   "execution_count": 39,
   "metadata": {},
   "outputs": [
    {
     "data": {
      "text/html": [
       "<div>\n",
       "<style scoped>\n",
       "    .dataframe tbody tr th:only-of-type {\n",
       "        vertical-align: middle;\n",
       "    }\n",
       "\n",
       "    .dataframe tbody tr th {\n",
       "        vertical-align: top;\n",
       "    }\n",
       "\n",
       "    .dataframe thead th {\n",
       "        text-align: right;\n",
       "    }\n",
       "</style>\n",
       "<table border=\"1\" class=\"dataframe\">\n",
       "  <thead>\n",
       "    <tr style=\"text-align: right;\">\n",
       "      <th></th>\n",
       "      <th>Genetic ID</th>\n",
       "      <th>Master ID</th>\n",
       "      <th>Political Entity</th>\n",
       "      <th>Locality</th>\n",
       "      <th>Molecular Sex</th>\n",
       "      <th>Y Haplogroup</th>\n",
       "      <th>mtDNA Haplogroup</th>\n",
       "    </tr>\n",
       "  </thead>\n",
       "  <tbody>\n",
       "    <tr>\n",
       "      <th>0</th>\n",
       "      <td>Ne30_genotyping_noUDG</td>\n",
       "      <td>NE30</td>\n",
       "      <td>China</td>\n",
       "      <td>Nepal, Kathmandu</td>\n",
       "      <td>M</td>\n",
       "      <td>C</td>\n",
       "      <td>D4m</td>\n",
       "    </tr>\n",
       "    <tr>\n",
       "      <th>1</th>\n",
       "      <td>I14200</td>\n",
       "      <td>I14200</td>\n",
       "      <td>United Kingdom</td>\n",
       "      <td>England, Wiltshire, Amesbury Down</td>\n",
       "      <td>M</td>\n",
       "      <td>R1b1a1b1a1a</td>\n",
       "      <td>K1b1a</td>\n",
       "    </tr>\n",
       "    <tr>\n",
       "      <th>2</th>\n",
       "      <td>Aconcagua_noUDG.SG</td>\n",
       "      <td>Aconcagua</td>\n",
       "      <td>Argentina</td>\n",
       "      <td>Cerro Aconcagua, Mendoza Province</td>\n",
       "      <td>M</td>\n",
       "      <td>Q-M3</td>\n",
       "      <td>C1bi</td>\n",
       "    </tr>\n",
       "    <tr>\n",
       "      <th>3</th>\n",
       "      <td>I1407</td>\n",
       "      <td>I1407</td>\n",
       "      <td>Armenia</td>\n",
       "      <td>Areni 1</td>\n",
       "      <td>M</td>\n",
       "      <td>L1a</td>\n",
       "      <td>H</td>\n",
       "    </tr>\n",
       "    <tr>\n",
       "      <th>4</th>\n",
       "      <td>ARM003</td>\n",
       "      <td>ARM002</td>\n",
       "      <td>Armenia</td>\n",
       "      <td>South Caucasus mountains, Kaps</td>\n",
       "      <td>M</td>\n",
       "      <td>G2b</td>\n",
       "      <td>K3</td>\n",
       "    </tr>\n",
       "  </tbody>\n",
       "</table>\n",
       "</div>"
      ],
      "text/plain": [
       "              Genetic ID  Master ID Political Entity  \\\n",
       "0  Ne30_genotyping_noUDG       NE30            China   \n",
       "1                 I14200     I14200   United Kingdom   \n",
       "2     Aconcagua_noUDG.SG  Aconcagua        Argentina   \n",
       "3                  I1407      I1407          Armenia   \n",
       "4                 ARM003     ARM002          Armenia   \n",
       "\n",
       "                            Locality Molecular Sex Y Haplogroup  \\\n",
       "0                   Nepal, Kathmandu             M            C   \n",
       "1  England, Wiltshire, Amesbury Down             M  R1b1a1b1a1a   \n",
       "2  Cerro Aconcagua, Mendoza Province             M         Q-M3   \n",
       "3                            Areni 1             M          L1a   \n",
       "4     South Caucasus mountains, Kaps             M          G2b   \n",
       "\n",
       "  mtDNA Haplogroup  \n",
       "0              D4m  \n",
       "1            K1b1a  \n",
       "2            C1bi   \n",
       "3                H  \n",
       "4               K3  "
      ]
     },
     "execution_count": 39,
     "metadata": {},
     "output_type": "execute_result"
    }
   ],
   "source": [
    "df_chrY_info_final.head()"
   ]
  },
  {
   "cell_type": "code",
   "execution_count": 40,
   "metadata": {},
   "outputs": [],
   "source": [
    "df_chrY_info_final.to_csv('chrY_Info.csv', index=False)"
   ]
  },
  {
   "cell_type": "code",
   "execution_count": null,
   "metadata": {},
   "outputs": [],
   "source": []
  },
  {
   "cell_type": "markdown",
   "metadata": {},
   "source": [
    "# Some Visualization \n"
   ]
  },
  {
   "cell_type": "code",
   "execution_count": 48,
   "metadata": {},
   "outputs": [
    {
     "name": "stderr",
     "output_type": "stream",
     "text": [
      "C:\\Users\\91735\\AppData\\Local\\Temp\\ipykernel_11336\\1308689808.py:11: UserWarning: \n",
      "The palette list has fewer values (10) than needed (61) and will cycle, which may produce an uninterpretable plot.\n",
      "  sns.countplot(data=df_plot, x='Political Entity', order=df_plot['Political Entity'].value_counts().head(10).index,hue='Political Entity',palette=palette,legend=False)\n"
     ]
    },
    {
     "data": {
      "image/png": "[encoded data removed]",
      "text/plain": [
       "<Figure size 1000x600 with 1 Axes>"
      ]
     },
     "metadata": {},
     "output_type": "display_data"
    }
   ],
   "source": [
    "import seaborn as sns\n",
    "import matplotlib.pyplot as plt\n",
    "\n",
    "relevent_cols=['Genetic ID','Political Entity']\n",
    "df_plot=df_chrY_info_final[relevent_cols]\n",
    "palette = sns.color_palette('husl', n_colors=10)\n",
    "\n",
    "sns.set_style(style='dark')\n",
    "\n",
    "plt.figure(figsize=(10, 6))\n",
    "sns.countplot(data=df_plot, x='Political Entity', order=df_plot['Political Entity'].value_counts().head(10).index,hue='Political Entity',palette=palette,legend=False)\n",
    "plt.title('Distribution of Individuals Across Regions')\n",
    "plt.xlabel('Region')\n",
    "plt.ylabel('Number of Individuals')\n",
    "plt.xticks(rotation=45)\n",
    "plt.tight_layout()\n",
    "plt.show()\n"
   ]
  },
  {
   "cell_type": "code",
   "execution_count": null,
   "metadata": {},
   "outputs": [],
   "source": []
  }
 ],
 "metadata": {
  "kernelspec": {
   "display_name": "freelance",
   "language": "python",
   "name": "python3"
  },
  "language_info": {
   "codemirror_mode": {
    "name": "ipython",
    "version": 3
   },
   "file_extension": ".py",
   "mimetype": "text/x-python",
   "name": "python",
   "nbconvert_exporter": "python",
   "pygments_lexer": "ipython3",
   "version": "3.11.9"
  }
 },
 "nbformat": 4,
 "nbformat_minor": 2
}
